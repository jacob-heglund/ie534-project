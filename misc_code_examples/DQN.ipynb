{
 "cells": [
  {
   "cell_type": "code",
   "execution_count": 39,
   "metadata": {
    "collapsed": true
   },
   "outputs": [],
   "source": [
    "\n",
    "import math, random\n",
    "\n",
    "import gym\n",
    "import numpy as np\n",
    "\n",
    "import torch\n",
    "import torch.nn as nn\n",
    "import torch.optim as optim\n",
    "import torch.autograd as autograd \n",
    "import torch.nn.functional as F"
   ]
  },
  {
   "cell_type": "code",
   "execution_count": 40,
   "metadata": {
    "collapsed": true
   },
   "outputs": [],
   "source": [
    "from IPython.display import clear_output\n",
    "import matplotlib.pyplot as plt\n",
    "%matplotlib inline"
   ]
  },
  {
   "cell_type": "code",
   "execution_count": 41,
   "metadata": {
    "collapsed": true
   },
   "outputs": [],
   "source": [
    "USE_CUDA = torch.cuda.is_available()\n",
    "Variable = lambda *args, **kwargs: autograd.Variable(*args, **kwargs).cuda() if USE_CUDA else autograd.Variable(*args, **kwargs)"
   ]
  },
  {
   "cell_type": "code",
   "execution_count": 42,
   "metadata": {
    "collapsed": true
   },
   "outputs": [],
   "source": [
    "# REPLAY BUFFER\n",
    "from collections import deque\n",
    "\n",
    "class ReplayBuffer(object):\n",
    "    def __init__(self, capacity):\n",
    "        self.buffer = deque(maxlen=capacity)\n",
    "    \n",
    "    def push(self, state, action, reward, next_state, done):\n",
    "        state      = np.expand_dims(state, 0)\n",
    "        next_state = np.expand_dims(next_state, 0)\n",
    "            \n",
    "        self.buffer.append((state, action, reward, next_state, done))\n",
    "    \n",
    "    def sample(self, batch_size):\n",
    "        state, action, reward, next_state, done = zip(*random.sample(self.buffer, batch_size))\n",
    "        return np.concatenate(state), action, reward, np.concatenate(next_state), done\n",
    "    \n",
    "    def __len__(self):\n",
    "        return len(self.buffer)"
   ]
  },
  {
   "cell_type": "code",
   "execution_count": 43,
   "metadata": {},
   "outputs": [
    {
     "name": "stdout",
     "output_type": "stream",
     "text": [
      "\u001b[33mWARN: gym.spaces.Box autodetected dtype as <class 'numpy.float32'>. Please provide explicit dtype.\u001b[0m\n"
     ]
    }
   ],
   "source": [
    "env_id = \"CartPole-v0\"\n",
    "env = gym.make(env_id)"
   ]
  },
  {
   "cell_type": "code",
   "execution_count": 44,
   "metadata": {
    "collapsed": true
   },
   "outputs": [],
   "source": [
    "\n",
    "epsilon_start = 1.0\n",
    "epsilon_final = 0.01\n",
    "epsilon_decay = 500\n",
    "\n",
    "epsilon_by_frame = lambda frame_idx: epsilon_final + (epsilon_start - epsilon_final) * math.exp(-1. * frame_idx / epsilon_decay)"
   ]
  },
  {
   "cell_type": "code",
   "execution_count": 45,
   "metadata": {},
   "outputs": [
    {
     "data": {
      "text/plain": [
       "[<matplotlib.lines.Line2D at 0x1e58709af98>]"
      ]
     },
     "execution_count": 45,
     "metadata": {},
     "output_type": "execute_result"
    },
    {
     "data": {
      "image/png": "[encoded data removed]",
      "text/plain": [
       "<Figure size 432x288 with 1 Axes>"
      ]
     },
     "metadata": {},
     "output_type": "display_data"
    }
   ],
   "source": [
    "plt.plot([epsilon_by_frame(i) for i in range(10000)])"
   ]
  },
  {
   "cell_type": "code",
   "execution_count": 46,
   "metadata": {
    "collapsed": true
   },
   "outputs": [],
   "source": [
    "class DQN(nn.Module):\n",
    "    def __init__(self, num_inputs, num_actions):\n",
    "        super(DQN, self).__init__()\n",
    "        \n",
    "        self.layers = nn.Sequential(\n",
    "            nn.Linear(env.observation_space.shape[0], 128),\n",
    "            nn.ReLU(),\n",
    "            nn.Linear(128, 128),\n",
    "            nn.ReLU(),\n",
    "            nn.Linear(128, env.action_space.n)\n",
    "        )\n",
    "        \n",
    "    def forward(self, x):\n",
    "        return self.layers(x)\n",
    "    \n",
    "    def act(self, state, epsilon):\n",
    "        if random.random() > epsilon:\n",
    "            state   = Variable(torch.FloatTensor(state).unsqueeze(0), volatile=True)\n",
    "            q_value = self.forward(state)\n",
    "#             action  = q_value.max(1)[1].data[0]\n",
    "            action  = q_value.max(1)[1].item()\n",
    "        else:\n",
    "            action = random.randrange(env.action_space.n)\n",
    "        return action\n"
   ]
  },
  {
   "cell_type": "code",
   "execution_count": 47,
   "metadata": {
    "collapsed": true
   },
   "outputs": [],
   "source": [
    "model = DQN(env.observation_space.shape[0], env.action_space.n)\n",
    "\n",
    "if USE_CUDA:\n",
    "    model = model.cuda()\n",
    "    \n",
    "optimizer = optim.Adam(model.parameters())\n",
    "\n",
    "replay_buffer = ReplayBuffer(1000)"
   ]
  },
  {
   "cell_type": "code",
   "execution_count": 48,
   "metadata": {
    "collapsed": true
   },
   "outputs": [],
   "source": [
    "\n",
    "def compute_td_loss(batch_size):\n",
    "    state, action, reward, next_state, done = replay_buffer.sample(batch_size)\n",
    "\n",
    "    state      = Variable(torch.FloatTensor(np.float32(state)))\n",
    "    next_state = Variable(torch.FloatTensor(np.float32(next_state)), volatile=True)\n",
    "    action     = Variable(torch.LongTensor(action))\n",
    "    reward     = Variable(torch.FloatTensor(reward))\n",
    "    done       = Variable(torch.FloatTensor(done))\n",
    "\n",
    "    q_values      = model(state)\n",
    "    next_q_values = model(next_state)\n",
    "\n",
    "    q_value          = q_values.gather(1, action.unsqueeze(1)).squeeze(1)\n",
    "    next_q_value     = next_q_values.max(1)[0]\n",
    "    expected_q_value = reward + gamma * next_q_value * (1 - done)\n",
    "    \n",
    "    loss = (q_value - Variable(expected_q_value.data)).pow(2).mean()\n",
    "        \n",
    "    optimizer.zero_grad()\n",
    "    loss.backward()\n",
    "    optimizer.step()\n",
    "    \n",
    "    return loss"
   ]
  },
  {
   "cell_type": "code",
   "execution_count": 49,
   "metadata": {
    "collapsed": true
   },
   "outputs": [],
   "source": [
    "def plot(frame_idx, rewards, losses):\n",
    "    clear_output(True)\n",
    "    plt.figure(figsize=(20,5))\n",
    "    plt.subplot(131)\n",
    "    plt.title('frame %s. reward: %s' % (frame_idx, np.mean(rewards[-10:])))\n",
    "    plt.plot(rewards)\n",
    "    plt.subplot(132)\n",
    "    plt.title('loss')\n",
    "    plt.plot(losses)\n",
    "    plt.show()"
   ]
  },
  {
   "cell_type": "code",
   "execution_count": 52,
   "metadata": {
    "scrolled": false
   },
   "outputs": [
    {
     "data": {
      "image/png": "[encoded data removed]",
      "text/plain": [
       "<Figure size 1440x360 with 2 Axes>"
      ]
     },
     "metadata": {},
     "output_type": "display_data"
    }
   ],
   "source": [
    "num_frames = 10000\n",
    "batch_size = 32\n",
    "gamma      = 0.99\n",
    "\n",
    "losses = []\n",
    "all_rewards = []\n",
    "episode_reward = 0\n",
    "\n",
    "state = env.reset()\n",
    "for frame_idx in range(1, num_frames + 1):\n",
    "    epsilon = epsilon_by_frame(frame_idx)\n",
    "    action = model.act(state, epsilon)\n",
    "    \n",
    "    next_state, reward, done, _ = env.step(action)\n",
    "    replay_buffer.push(state, action, reward, next_state, done)\n",
    "    \n",
    "    state = next_state\n",
    "    episode_reward += reward\n",
    "    \n",
    "    if done:\n",
    "        state = env.reset()\n",
    "        all_rewards.append(episode_reward)\n",
    "        episode_reward = 0\n",
    "        \n",
    "    if len(replay_buffer) > batch_size:\n",
    "        loss = compute_td_loss(batch_size)\n",
    "        losses.append(loss.item())\n",
    "        \n",
    "    if frame_idx % 200 == 0:\n",
    "        plot(frame_idx, all_rewards, losses)"
   ]
  },
  {
   "cell_type": "code",
   "execution_count": 68,
   "metadata": {},
   "outputs": [
    {
     "name": "stdout",
     "output_type": "stream",
     "text": [
      "Requirement already satisfied: baselines in c:\\python3\\anaconda3\\lib\\site-packages (0.1.5)\n",
      "Requirement already satisfied: mpi4py in c:\\python3\\anaconda3\\lib\\site-packages (from baselines) (3.0.0)\n",
      "Requirement already satisfied: cloudpickle in c:\\python3\\anaconda3\\lib\\site-packages (from baselines) (0.5.3)\n",
      "Requirement already satisfied: tqdm in c:\\python3\\anaconda3\\lib\\site-packages (from baselines) (4.26.0)\n",
      "Requirement already satisfied: scipy in c:\\python3\\anaconda3\\lib\\site-packages (from baselines) (1.1.0)\n",
      "Requirement already satisfied: tensorflow>=1.4.0 in c:\\python3\\anaconda3\\lib\\site-packages (from baselines) (1.11.0)\n",
      "Requirement already satisfied: click in c:\\python3\\anaconda3\\lib\\site-packages (from baselines) (6.7)\n",
      "Requirement already satisfied: progressbar2 in c:\\python3\\anaconda3\\lib\\site-packages (from baselines) (3.38.0)\n",
      "Requirement already satisfied: joblib in c:\\python3\\anaconda3\\lib\\site-packages (from baselines) (0.12.5)\n",
      "Requirement already satisfied: gym[atari,classic_control,mujoco,robotics] in c:\\python3\\anaconda3\\lib\\site-packages (from baselines) (0.10.5)\n",
      "Requirement already satisfied: dill in c:\\python3\\anaconda3\\lib\\site-packages (from baselines) (0.2.8.2)\n",
      "Requirement already satisfied: zmq in c:\\python3\\anaconda3\\lib\\site-packages (from baselines) (0.0.0)\n",
      "Requirement already satisfied: keras-applications>=1.0.5 in c:\\python3\\anaconda3\\lib\\site-packages (from tensorflow>=1.4.0->baselines) (1.0.6)\n",
      "Requirement already satisfied: termcolor>=1.1.0 in c:\\python3\\anaconda3\\lib\\site-packages (from tensorflow>=1.4.0->baselines) (1.1.0)\n",
      "Requirement already satisfied: gast>=0.2.0 in c:\\python3\\anaconda3\\lib\\site-packages (from tensorflow>=1.4.0->baselines) (0.2.0)\n",
      "Requirement already satisfied: six>=1.10.0 in c:\\python3\\anaconda3\\lib\\site-packages (from tensorflow>=1.4.0->baselines) (1.11.0)\n",
      "Requirement already satisfied: astor>=0.6.0 in c:\\python3\\anaconda3\\lib\\site-packages (from tensorflow>=1.4.0->baselines) (0.7.1)\n",
      "Requirement already satisfied: numpy>=1.13.3 in c:\\python3\\anaconda3\\lib\\site-packages (from tensorflow>=1.4.0->baselines) (1.14.3)\n",
      "Requirement already satisfied: grpcio>=1.8.6 in c:\\python3\\anaconda3\\lib\\site-packages (from tensorflow>=1.4.0->baselines) (1.15.0)\n",
      "Requirement already satisfied: keras-preprocessing>=1.0.3 in c:\\python3\\anaconda3\\lib\\site-packages (from tensorflow>=1.4.0->baselines) (1.0.5)\n",
      "Requirement already satisfied: absl-py>=0.1.6 in c:\\python3\\anaconda3\\lib\\site-packages (from tensorflow>=1.4.0->baselines) (0.5.0)\n",
      "Requirement already satisfied: setuptools<=39.1.0 in c:\\python3\\anaconda3\\lib\\site-packages (from tensorflow>=1.4.0->baselines) (39.1.0)\n",
      "Requirement already satisfied: wheel>=0.26 in c:\\python3\\anaconda3\\lib\\site-packages (from tensorflow>=1.4.0->baselines) (0.31.1)\n",
      "Requirement already satisfied: protobuf>=3.6.0 in c:\\python3\\anaconda3\\lib\\site-packages (from tensorflow>=1.4.0->baselines) (3.6.1)\n",
      "Requirement already satisfied: tensorboard<1.12.0,>=1.11.0 in c:\\python3\\anaconda3\\lib\\site-packages (from tensorflow>=1.4.0->baselines) (1.11.0)\n",
      "Requirement already satisfied: python-utils>=2.3.0 in c:\\python3\\anaconda3\\lib\\site-packages (from progressbar2->baselines) (2.3.0)\n",
      "Requirement already satisfied: requests>=2.0 in c:\\python3\\anaconda3\\lib\\site-packages (from gym[atari,classic_control,mujoco,robotics]->baselines) (2.18.4)\n",
      "Requirement already satisfied: pyglet>=1.2.0 in c:\\python3\\anaconda3\\lib\\site-packages (from gym[atari,classic_control,mujoco,robotics]->baselines) (1.3.2)\n",
      "Requirement already satisfied: Pillow; extra == \"atari\" in c:\\python3\\anaconda3\\lib\\site-packages (from gym[atari,classic_control,mujoco,robotics]->baselines) (5.1.0)\n",
      "Requirement already satisfied: atari-py>=0.1.1; extra == \"atari\" in c:\\python3\\anaconda3\\lib\\site-packages (from gym[atari,classic_control,mujoco,robotics]->baselines) (0.1.1)\n",
      "Requirement already satisfied: PyOpenGL; extra == \"atari\" in c:\\python3\\anaconda3\\lib\\site-packages (from gym[atari,classic_control,mujoco,robotics]->baselines) (3.1.0)\n",
      "Requirement already satisfied: mujoco-py>=1.50; extra == \"mujoco\" in c:\\python3\\anaconda3\\lib\\site-packages (from gym[atari,classic_control,mujoco,robotics]->baselines) (1.50.1.59)\n",
      "Requirement already satisfied: imageio; extra == \"mujoco\" in c:\\python3\\anaconda3\\lib\\site-packages (from gym[atari,classic_control,mujoco,robotics]->baselines) (2.3.0)\n",
      "Requirement already satisfied: pyreadline>=1.7.1 in c:\\python3\\anaconda3\\lib\\site-packages (from dill->baselines) (2.1)\n",
      "Requirement already satisfied: pyzmq in c:\\python3\\anaconda3\\lib\\site-packages (from zmq->baselines) (17.0.0)\n",
      "Requirement already satisfied: h5py in c:\\python3\\anaconda3\\lib\\site-packages (from keras-applications>=1.0.5->tensorflow>=1.4.0->baselines) (2.7.1)\n",
      "Requirement already satisfied: markdown>=2.6.8 in c:\\python3\\anaconda3\\lib\\site-packages (from tensorboard<1.12.0,>=1.11.0->tensorflow>=1.4.0->baselines) (3.0.1)\n",
      "Requirement already satisfied: werkzeug>=0.11.10 in c:\\python3\\anaconda3\\lib\\site-packages (from tensorboard<1.12.0,>=1.11.0->tensorflow>=1.4.0->baselines) (0.14.1)\n",
      "Requirement already satisfied: chardet<3.1.0,>=3.0.2 in c:\\python3\\anaconda3\\lib\\site-packages (from requests>=2.0->gym[atari,classic_control,mujoco,robotics]->baselines) (3.0.4)\n",
      "Requirement already satisfied: idna<2.7,>=2.5 in c:\\python3\\anaconda3\\lib\\site-packages (from requests>=2.0->gym[atari,classic_control,mujoco,robotics]->baselines) (2.6)\n",
      "Requirement already satisfied: urllib3<1.23,>=1.21.1 in c:\\python3\\anaconda3\\lib\\site-packages (from requests>=2.0->gym[atari,classic_control,mujoco,robotics]->baselines) (1.22)\n",
      "Requirement already satisfied: certifi>=2017.4.17 in c:\\python3\\anaconda3\\lib\\site-packages (from requests>=2.0->gym[atari,classic_control,mujoco,robotics]->baselines) (2018.4.16)\n",
      "Requirement already satisfied: future in c:\\python3\\anaconda3\\lib\\site-packages (from pyglet>=1.2.0->gym[atari,classic_control,mujoco,robotics]->baselines) (0.16.0)\n",
      "Requirement already satisfied: cffi>=1.10 in c:\\python3\\anaconda3\\lib\\site-packages (from mujoco-py>=1.50; extra == \"mujoco\"->gym[atari,classic_control,mujoco,robotics]->baselines) (1.11.5)\n",
      "Requirement already satisfied: lockfile>=0.12.2 in c:\\python3\\anaconda3\\lib\\site-packages (from mujoco-py>=1.50; extra == \"mujoco\"->gym[atari,classic_control,mujoco,robotics]->baselines) (0.12.2)\n",
      "Requirement already satisfied: Cython>=0.27.2 in c:\\python3\\anaconda3\\lib\\site-packages (from mujoco-py>=1.50; extra == \"mujoco\"->gym[atari,classic_control,mujoco,robotics]->baselines) (0.28.2)\n",
      "Requirement already satisfied: glfw>=1.4.0 in c:\\python3\\anaconda3\\lib\\site-packages (from mujoco-py>=1.50; extra == \"mujoco\"->gym[atari,classic_control,mujoco,robotics]->baselines) (1.7.0)\n",
      "Requirement already satisfied: pycparser in c:\\python3\\anaconda3\\lib\\site-packages (from cffi>=1.10->mujoco-py>=1.50; extra == \"mujoco\"->gym[atari,classic_control,mujoco,robotics]->baselines) (2.18)\n"
     ]
    },
    {
     "name": "stderr",
     "output_type": "stream",
     "text": [
      "You are using pip version 18.0, however version 18.1 is available.\n",
      "You should consider upgrading via the 'python -m pip install --upgrade pip' command.\n"
     ]
    }
   ],
   "source": [
    "!pip3 install baselines"
   ]
  },
  {
   "cell_type": "code",
   "execution_count": 70,
   "metadata": {},
   "outputs": [
    {
     "ename": "ModuleNotFoundError",
     "evalue": "No module named 'baselines.common.wrappers'",
     "output_type": "error",
     "traceback": [
      "\u001b[1;31m---------------------------------------------------------------------------\u001b[0m",
      "\u001b[1;31mModuleNotFoundError\u001b[0m                       Traceback (most recent call last)",
      "\u001b[1;32m<ipython-input-70-4b4963e29d92>\u001b[0m in \u001b[0;36m<module>\u001b[1;34m()\u001b[0m\n\u001b[1;32m----> 1\u001b[1;33m \u001b[1;32mfrom\u001b[0m \u001b[0mbaselines\u001b[0m\u001b[1;33m.\u001b[0m\u001b[0mcommon\u001b[0m\u001b[1;33m.\u001b[0m\u001b[0mwrappers\u001b[0m \u001b[1;32mimport\u001b[0m \u001b[0mmake_atari\u001b[0m\u001b[1;33m,\u001b[0m \u001b[0mwrap_deepmind\u001b[0m\u001b[1;33m,\u001b[0m \u001b[0mwrap_pytorch\u001b[0m\u001b[1;33m\u001b[0m\u001b[0m\n\u001b[0m",
      "\u001b[1;31mModuleNotFoundError\u001b[0m: No module named 'baselines.common.wrappers'"
     ]
    }
   ],
   "source": [
    "from baselines.common.wrappers import make_atari, wrap_deepmind, wrap_pytorch"
   ]
  },
  {
   "cell_type": "code",
   "execution_count": 85,
   "metadata": {},
   "outputs": [
    {
     "data": {
      "text/plain": [
       "['Dataset',\n",
       " 'EzPickle',\n",
       " 'MESSAGE_DEPTH',\n",
       " 'RunningAvg',\n",
       " '__builtins__',\n",
       " '__cached__',\n",
       " '__doc__',\n",
       " '__file__',\n",
       " '__loader__',\n",
       " '__name__',\n",
       " '__package__',\n",
       " '__path__',\n",
       " '__spec__',\n",
       " 'boolean_flag',\n",
       " 'color2num',\n",
       " 'colorize',\n",
       " 'console_util',\n",
       " 'contextmanager',\n",
       " 'dataset',\n",
       " 'discount',\n",
       " 'discount_with_boundaries',\n",
       " 'explained_variance',\n",
       " 'explained_variance_2d',\n",
       " 'flatten_arrays',\n",
       " 'fmt_item',\n",
       " 'fmt_row',\n",
       " 'get_wrapper_by_name',\n",
       " 'gym',\n",
       " 'math_util',\n",
       " 'misc_util',\n",
       " 'ncc',\n",
       " 'np',\n",
       " 'os',\n",
       " 'pickle',\n",
       " 'pickle_load',\n",
       " 'pretty_eta',\n",
       " 'print_function',\n",
       " 'random',\n",
       " 'relatively_safe_pickle_dump',\n",
       " 'scipy',\n",
       " 'set_global_seeds',\n",
       " 'tempfile',\n",
       " 'test_discount_with_boundaries',\n",
       " 'time',\n",
       " 'timed',\n",
       " 'unflatten_vector',\n",
       " 'unpack',\n",
       " 'zipfile',\n",
       " 'zipsame']"
      ]
     },
     "execution_count": 85,
     "metadata": {},
     "output_type": "execute_result"
    }
   ],
   "source": [
    "import baselines\n",
    "dir(baselines.common)"
   ]
  },
  {
   "cell_type": "code",
   "execution_count": null,
   "metadata": {
    "collapsed": true
   },
   "outputs": [],
   "source": []
  },
  {
   "cell_type": "code",
   "execution_count": null,
   "metadata": {
    "collapsed": true
   },
   "outputs": [],
   "source": []
  },
  {
   "cell_type": "code",
   "execution_count": null,
   "metadata": {
    "collapsed": true
   },
   "outputs": [],
   "source": []
  },
  {
   "cell_type": "code",
   "execution_count": null,
   "metadata": {
    "collapsed": true
   },
   "outputs": [],
   "source": [
    "Rewards1 = all_rewards\n",
    "Losses1 = losses"
   ]
  },
  {
   "cell_type": "code",
   "execution_count": null,
   "metadata": {
    "collapsed": true
   },
   "outputs": [],
   "source": [
    "class DQN(nn.Module):\n",
    "    def __init__(self,num_inputs,num_actions):\n",
    "        super(DQN,self).__init__()\n",
    "        \n",
    "        self.layers = nn.Sequential(\n",
    "            nn.Linear(num_inputs,128),\n",
    "            nn.ReLU(),\n",
    "            nn.Linear(128,128),\n",
    "            nn.ReLU(),\n",
    "            nn.Linear(128,env.action_space.n)        \n",
    "        )\n",
    "    def forward(self,x):\n",
    "        out = self.layers(x)\n",
    "        out = nn.functional.log_softmax(out)\n",
    "        return out\n",
    "#         return self.layers()\n",
    "    \n",
    "    def act(self,state,epsilon):\n",
    "        if random.random()>epsilon:\n",
    "            state = Variable(torch.FloatTensor(state).unsqueeze(0),volatile=True)\n",
    "            q_value = self.forward(state)\n",
    "            print(q_value)\n",
    "            action = torch.max(q_value).item()\n",
    "            print(action)\n",
    "            print(type(action))\n",
    "#             print(q_value)\n",
    "            action  = q_value.max(1)[1].item()\n",
    "            print(action)\n",
    "            print(type(action))\n",
    "#             action  = Variable(torch.LongTensor(torch.tensor(np.max(q_value.data.cpu().numpy()[0]))))\n",
    "#             if Flag == True:\n",
    "# #                 print(np.max(q_value.data.cpu().numpy()[0]))\n",
    "#                 print(action)\n",
    "#                 Flag == False\n",
    "        else:\n",
    "            action = random.randrange(env.action_space.n)\n",
    "        return action"
   ]
  }
 ],
 "metadata": {
  "kernelspec": {
   "display_name": "Python 3",
   "language": "python",
   "name": "python3"
  },
  "language_info": {
   "codemirror_mode": {
    "name": "ipython",
    "version": 3
   },
   "file_extension": ".py",
   "mimetype": "text/x-python",
   "name": "python",
   "nbconvert_exporter": "python",
   "pygments_lexer": "ipython3",
   "version": "3.6.3"
  }
 },
 "nbformat": 4,
 "nbformat_minor": 2
}
