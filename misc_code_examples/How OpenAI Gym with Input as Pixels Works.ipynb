{
 "cells": [
  {
   "cell_type": "code",
   "execution_count": 3,
   "metadata": {
    "scrolled": true
   },
   "outputs": [
    {
     "name": "stderr",
     "output_type": "stream",
     "text": [
      "[2018-10-02 18:49:27,108] Making new env: BreakoutDeterministic-v4\n"
     ]
    }
   ],
   "source": [
    "import gym\n",
    "env = gym.make('BreakoutDeterministic-v4')\n",
    "obs01 = env.reset()\n",
    "env.render()\n",
    "import matplotlib.pyplot as plt\n",
    "\n",
    "%matplotlib inline"
   ]
  },
  {
   "cell_type": "markdown",
   "metadata": {},
   "source": [
    "First observation is the starting screen in the game."
   ]
  },
  {
   "cell_type": "code",
   "execution_count": 2,
   "metadata": {
    "scrolled": false
   },
   "outputs": [
    {
     "data": {
      "image/png": "[encoded data removed]",
      "text/plain": [
       "<matplotlib.figure.Figure at 0x10641f940>"
      ]
     },
     "metadata": {},
     "output_type": "display_data"
    }
   ],
   "source": [
    "plt.imshow(obs01)\n",
    "plt.show()"
   ]
  },
  {
   "cell_type": "markdown",
   "metadata": {},
   "source": [
    "Actions are contained within the environments action space so for breakout we have 4 actions. Actions are different for every game."
   ]
  },
  {
   "cell_type": "code",
   "execution_count": 4,
   "metadata": {},
   "outputs": [
    {
     "data": {
      "text/plain": [
       "Discrete(4)"
      ]
     },
     "execution_count": 4,
     "metadata": {},
     "output_type": "execute_result"
    }
   ],
   "source": [
    "env.action_space"
   ]
  },
  {
   "cell_type": "markdown",
   "metadata": {},
   "source": [
    "Actual actions, what is NOOP? - do nothing"
   ]
  },
  {
   "cell_type": "code",
   "execution_count": 32,
   "metadata": {},
   "outputs": [
    {
     "data": {
      "text/plain": [
       "['NOOP', 'FIRE', 'RIGHT', 'LEFT']"
      ]
     },
     "execution_count": 32,
     "metadata": {},
     "output_type": "execute_result"
    }
   ],
   "source": [
    "env.unwrapped.get_action_meanings()"
   ]
  },
  {
   "cell_type": "markdown",
   "metadata": {},
   "source": [
    "Take a step in the environment paired with an action"
   ]
  },
  {
   "cell_type": "code",
   "execution_count": 5,
   "metadata": {},
   "outputs": [
    {
     "name": "stdout",
     "output_type": "stream",
     "text": [
      "(210, 160, 3) 0.0 False {'ale.lives': 5}\n"
     ]
    }
   ],
   "source": [
    "# Perform a random action, returns the new frame, reward and whether the game is over\n",
    "frame, reward, is_done, _ = env.step(env.action_space.sample())\n",
    "print(frame.shape, reward, is_done, _)\n",
    "# Render allows next frame from game engine\n",
    "env.render()"
   ]
  },
  {
   "cell_type": "code",
   "execution_count": 6,
   "metadata": {},
   "outputs": [
    {
     "data": {
      "image/png": "[encoded data removed]",
      "text/plain": [
       "<matplotlib.figure.Figure at 0x114b19128>"
      ]
     },
     "metadata": {},
     "output_type": "display_data"
    }
   ],
   "source": [
    "plt.imshow(frame)\n",
    "plt.show()"
   ]
  },
  {
   "cell_type": "code",
   "execution_count": 7,
   "metadata": {},
   "outputs": [
    {
     "name": "stdout",
     "output_type": "stream",
     "text": [
      "(210, 160, 3) 0.0 False {'ale.lives': 5}\n"
     ]
    }
   ],
   "source": [
    "# Perform a random action, returns the new frame, reward and whether the game is over\n",
    "frame, reward, is_done, _ = env.step(env.action_space.sample())\n",
    "print(frame.shape, reward, is_done, _)\n",
    "# Render allows next frame from game engine\n",
    "env.render()"
   ]
  },
  {
   "cell_type": "code",
   "execution_count": 8,
   "metadata": {},
   "outputs": [
    {
     "data": {
      "image/png": "[encoded data removed]",
      "text/plain": [
       "<matplotlib.figure.Figure at 0x10b39e7f0>"
      ]
     },
     "metadata": {},
     "output_type": "display_data"
    }
   ],
   "source": [
    "plt.imshow(frame)\n",
    "plt.show()"
   ]
  },
  {
   "cell_type": "markdown",
   "metadata": {},
   "source": [
    "So in practice we cannot use everysingle frame. A hyper parameter k controls when each kth frame will be evaluated within the Q-Learning framework. For different games there may be a different optimal k. But 3 or 4 seems seems like the standard. Note: ball is not visible yet above b/c we are so few frames into the future."
   ]
  },
  {
   "cell_type": "code",
   "execution_count": 9,
   "metadata": {},
   "outputs": [
    {
     "name": "stdout",
     "output_type": "stream",
     "text": [
      "(210, 160, 3) 0.0 False {'ale.lives': 5}\n",
      "(210, 160, 3) 0.0 False {'ale.lives': 5}\n",
      "(210, 160, 3) 0.0 False {'ale.lives': 5}\n",
      "(210, 160, 3) 0.0 False {'ale.lives': 5}\n",
      "(210, 160, 3) 0.0 False {'ale.lives': 5}\n",
      "(210, 160, 3) 0.0 False {'ale.lives': 5}\n",
      "(210, 160, 3) 0.0 False {'ale.lives': 5}\n",
      "(210, 160, 3) 0.0 False {'ale.lives': 5}\n",
      "(210, 160, 3) 0.0 False {'ale.lives': 5}\n",
      "(210, 160, 3) 0.0 False {'ale.lives': 5}\n",
      "(210, 160, 3) 0.0 False {'ale.lives': 5}\n",
      "(210, 160, 3) 0.0 False {'ale.lives': 5}\n",
      "(210, 160, 3) 0.0 False {'ale.lives': 5}\n",
      "(210, 160, 3) 0.0 False {'ale.lives': 5}\n",
      "(210, 160, 3) 0.0 False {'ale.lives': 5}\n",
      "(210, 160, 3) 0.0 False {'ale.lives': 5}\n",
      "(210, 160, 3) 0.0 False {'ale.lives': 5}\n",
      "(210, 160, 3) 0.0 False {'ale.lives': 5}\n",
      "(210, 160, 3) 0.0 False {'ale.lives': 5}\n",
      "(210, 160, 3) 0.0 False {'ale.lives': 5}\n",
      "(210, 160, 3) 0.0 False {'ale.lives': 5}\n",
      "(210, 160, 3) 0.0 False {'ale.lives': 5}\n",
      "(210, 160, 3) 0.0 False {'ale.lives': 5}\n",
      "(210, 160, 3) 0.0 False {'ale.lives': 5}\n",
      "(210, 160, 3) 0.0 False {'ale.lives': 4}\n",
      "(210, 160, 3) 0.0 False {'ale.lives': 4}\n",
      "(210, 160, 3) 0.0 False {'ale.lives': 4}\n",
      "(210, 160, 3) 0.0 False {'ale.lives': 4}\n",
      "(210, 160, 3) 0.0 False {'ale.lives': 4}\n",
      "(210, 160, 3) 0.0 False {'ale.lives': 4}\n",
      "(210, 160, 3) 0.0 False {'ale.lives': 4}\n",
      "(210, 160, 3) 0.0 False {'ale.lives': 4}\n",
      "(210, 160, 3) 0.0 False {'ale.lives': 4}\n",
      "(210, 160, 3) 0.0 False {'ale.lives': 4}\n",
      "(210, 160, 3) 0.0 False {'ale.lives': 4}\n",
      "(210, 160, 3) 0.0 False {'ale.lives': 4}\n",
      "(210, 160, 3) 0.0 False {'ale.lives': 4}\n",
      "(210, 160, 3) 0.0 False {'ale.lives': 4}\n",
      "(210, 160, 3) 0.0 False {'ale.lives': 4}\n",
      "(210, 160, 3) 0.0 False {'ale.lives': 4}\n",
      "(210, 160, 3) 0.0 False {'ale.lives': 4}\n",
      "(210, 160, 3) 0.0 False {'ale.lives': 4}\n",
      "(210, 160, 3) 0.0 False {'ale.lives': 4}\n",
      "(210, 160, 3) 0.0 False {'ale.lives': 4}\n",
      "(210, 160, 3) 0.0 False {'ale.lives': 4}\n",
      "(210, 160, 3) 0.0 False {'ale.lives': 4}\n",
      "(210, 160, 3) 0.0 False {'ale.lives': 4}\n",
      "(210, 160, 3) 0.0 False {'ale.lives': 4}\n",
      "(210, 160, 3) 0.0 False {'ale.lives': 3}\n",
      "(210, 160, 3) 0.0 False {'ale.lives': 3}\n",
      "(210, 160, 3) 0.0 False {'ale.lives': 3}\n",
      "(210, 160, 3) 0.0 False {'ale.lives': 3}\n",
      "(210, 160, 3) 0.0 False {'ale.lives': 3}\n",
      "(210, 160, 3) 0.0 False {'ale.lives': 3}\n",
      "(210, 160, 3) 0.0 False {'ale.lives': 3}\n",
      "(210, 160, 3) 0.0 False {'ale.lives': 3}\n",
      "(210, 160, 3) 0.0 False {'ale.lives': 3}\n",
      "(210, 160, 3) 0.0 False {'ale.lives': 3}\n",
      "(210, 160, 3) 0.0 False {'ale.lives': 3}\n",
      "(210, 160, 3) 0.0 False {'ale.lives': 3}\n",
      "(210, 160, 3) 0.0 False {'ale.lives': 3}\n",
      "(210, 160, 3) 0.0 False {'ale.lives': 3}\n",
      "(210, 160, 3) 0.0 False {'ale.lives': 3}\n",
      "(210, 160, 3) 0.0 False {'ale.lives': 3}\n",
      "(210, 160, 3) 0.0 False {'ale.lives': 3}\n",
      "(210, 160, 3) 0.0 False {'ale.lives': 3}\n",
      "(210, 160, 3) 0.0 False {'ale.lives': 3}\n",
      "(210, 160, 3) 0.0 False {'ale.lives': 3}\n",
      "(210, 160, 3) 0.0 False {'ale.lives': 3}\n",
      "(210, 160, 3) 0.0 False {'ale.lives': 3}\n",
      "(210, 160, 3) 0.0 False {'ale.lives': 3}\n",
      "(210, 160, 3) 0.0 False {'ale.lives': 3}\n",
      "(210, 160, 3) 0.0 False {'ale.lives': 3}\n",
      "(210, 160, 3) 0.0 False {'ale.lives': 2}\n",
      "(210, 160, 3) 0.0 False {'ale.lives': 2}\n",
      "(210, 160, 3) 0.0 False {'ale.lives': 2}\n",
      "(210, 160, 3) 0.0 False {'ale.lives': 2}\n",
      "(210, 160, 3) 0.0 False {'ale.lives': 2}\n",
      "(210, 160, 3) 0.0 False {'ale.lives': 2}\n",
      "(210, 160, 3) 0.0 False {'ale.lives': 2}\n",
      "(210, 160, 3) 0.0 False {'ale.lives': 2}\n",
      "(210, 160, 3) 0.0 False {'ale.lives': 2}\n",
      "(210, 160, 3) 0.0 False {'ale.lives': 2}\n",
      "(210, 160, 3) 0.0 False {'ale.lives': 2}\n",
      "(210, 160, 3) 0.0 False {'ale.lives': 2}\n",
      "(210, 160, 3) 0.0 False {'ale.lives': 2}\n",
      "(210, 160, 3) 0.0 False {'ale.lives': 2}\n",
      "(210, 160, 3) 0.0 False {'ale.lives': 2}\n",
      "(210, 160, 3) 0.0 False {'ale.lives': 2}\n",
      "(210, 160, 3) 0.0 False {'ale.lives': 2}\n",
      "(210, 160, 3) 0.0 False {'ale.lives': 2}\n",
      "(210, 160, 3) 0.0 False {'ale.lives': 2}\n",
      "(210, 160, 3) 0.0 False {'ale.lives': 2}\n",
      "(210, 160, 3) 0.0 False {'ale.lives': 2}\n",
      "(210, 160, 3) 0.0 False {'ale.lives': 2}\n",
      "(210, 160, 3) 0.0 False {'ale.lives': 2}\n",
      "(210, 160, 3) 0.0 False {'ale.lives': 2}\n",
      "(210, 160, 3) 0.0 False {'ale.lives': 1}\n",
      "(210, 160, 3) 0.0 False {'ale.lives': 1}\n",
      "(210, 160, 3) 0.0 False {'ale.lives': 1}\n"
     ]
    },
    {
     "data": {
      "image/png": "[encoded data removed]",
      "text/plain": [
       "<matplotlib.figure.Figure at 0x118949e80>"
      ]
     },
     "metadata": {},
     "output_type": "display_data"
    }
   ],
   "source": [
    "for i in range(100):\n",
    "    # Perform a random action, returns the new frame, reward and whether the game is over\n",
    "    frame, reward, is_done, _ = env.step(env.action_space.sample())\n",
    "    print(frame.shape, reward, is_done, _)\n",
    "    # Render allows next frame from game engine\n",
    "    env.render()\n",
    "plt.imshow(frame)\n",
    "plt.show()"
   ]
  },
  {
   "cell_type": "code",
   "execution_count": null,
   "metadata": {
    "collapsed": true
   },
   "outputs": [],
   "source": []
  }
 ],
 "metadata": {
  "kernelspec": {
   "display_name": "Python 3",
   "language": "python",
   "name": "python3"
  },
  "language_info": {
   "codemirror_mode": {
    "name": "ipython",
    "version": 3
   },
   "file_extension": ".py",
   "mimetype": "text/x-python",
   "name": "python",
   "nbconvert_exporter": "python",
   "pygments_lexer": "ipython3",
   "version": "3.6.3"
  }
 },
 "nbformat": 4,
 "nbformat_minor": 2
}
